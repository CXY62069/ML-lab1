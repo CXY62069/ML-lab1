{
 "cells": [
  {
   "cell_type": "code",
   "execution_count": 19,
   "metadata": {},
   "outputs": [
    {
     "data": {
      "text/plain": [
       "<matplotlib.legend.Legend at 0x27672c259e8>"
      ]
     },
     "execution_count": 19,
     "metadata": {},
     "output_type": "execute_result"
    },
    {
     "data": {
      "image/png": "[encoded data removed]",
      "text/plain": [
       "<matplotlib.figure.Figure at 0x27672af2080>"
      ]
     },
     "metadata": {},
     "output_type": "display_data"
    }
   ],
   "source": [
    "import numpy as np\n",
    "import matplotlib.pyplot as plt\n",
    "from sklearn.externals.joblib import Memory\n",
    "from sklearn.datasets import load_svmlight_file\n",
    "mem = Memory(\"./mycache\")\n",
    "from sklearn.model_selection import train_test_split\n",
    "from sklearn import linear_model\n",
    "\n",
    "X, y = load_svmlight_file(\"housing_scale.txt\")\n",
    "\n",
    "#划分训练集和测试集\n",
    "X_train, X_test, y_train, y_test = train_test_split(X, y, test_size=0.33)\n",
    "\n",
    "X_train = X_train.todense()\n",
    "X_test = X_test.todense()\n",
    "\n",
    "y_train =  y_train.reshape(y_train.shape[0],1)\n",
    "y_test =  y_test.reshape(y_test.shape[0],1)\n",
    "\n",
    "m, n = np.shape(X_train)\n",
    "theta = np.ones((n, 1))\n",
    "alpha = 0.00001\n",
    "maxIteration = 1000\n",
    "\n",
    "#Choose loss function and calculate loss\n",
    "def cal_loss(a,b,theta):\n",
    "    return (1/2 *(np.linalg.norm(a*theta-b))**2)/ (a.shape[0])\n",
    "    \n",
    "train_loss = []\n",
    "test_loss = []\n",
    "\n",
    "for i in range(0, maxIteration):\n",
    "    gradient =2* X_train.T * (X_train * theta - y_train)\n",
    "\n",
    "    theta = theta - alpha * gradient\n",
    "\n",
    "    train_loss.append(cal_loss(X_train,y_train,theta))\n",
    "    test_loss.append(cal_loss(X_test,y_test,theta))\n",
    "\n",
    "#绘图\n",
    "%matplotlib inline\n",
    "plt.xlabel(\"Iteration\")\n",
    "plt.ylabel(\"loss\")\n",
    "\n",
    "plt.plot(train_loss[20:], label=\"train_loss\")\n",
    "plt.plot(test_loss[20:],label=\"test_loss\" )\n",
    "plt.legend(loc='upper right')"
   ]
  }
 ],
 "metadata": {
  "kernelspec": {
   "display_name": "Python 3",
   "language": "python",
   "name": "python3"
  },
  "language_info": {
   "codemirror_mode": {
    "name": "ipython",
    "version": 3
   },
   "file_extension": ".py",
   "mimetype": "text/x-python",
   "name": "python",
   "nbconvert_exporter": "python",
   "pygments_lexer": "ipython3",
   "version": "3.6.3"
  }
 },
 "nbformat": 4,
 "nbformat_minor": 2
}
