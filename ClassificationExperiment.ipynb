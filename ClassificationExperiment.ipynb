{
 "cells": [
  {
   "cell_type": "code",
   "execution_count": 36,
   "metadata": {},
   "outputs": [],
   "source": [
    "import numpy as np\n",
    "import matplotlib.pyplot as plt\n",
    "from sklearn.externals.joblib import Memory\n",
    "from sklearn.datasets import load_svmlight_file\n",
    "mem = Memory(\"./mycache\")\n",
    "from sklearn.model_selection import train_test_split\n",
    "from sklearn import linear_model\n",
    "\n",
    "X, y = load_svmlight_file(\"australian_scale.txt\")\n",
    "\n",
    "#划分训练集和测试集\n",
    "X_train, X_test, y_train, y_test = train_test_split(X, y, test_size=0.4)\n",
    "\n",
    "\n",
    "\n",
    "y_train =  y_train.reshape(y_train.shape[0],1)\n",
    "y_test =  y_test.reshape(y_test.shape[0],1)\n",
    "\n",
    "\n",
    "theta = np.ones((X.shape[1], 1))\n",
    "maxIteration = 100\n",
    "c = 0.5\n",
    "learning_rate = 0.0005\n",
    "\n",
    "train_loss, test_loss, train_accr, test_accr = [],[],[],[]\n",
    "x_todense_T = []\n"
   ]
  },
  {
   "cell_type": "code",
   "execution_count": 37,
   "metadata": {},
   "outputs": [],
   "source": [
    "for i in range(X_train.shape[0]):\n",
    "    x_todense_T.append(X_train[i].todense().T)\n",
    "\n",
    "def cal_hinge_loss_and_grad(theta,x,y):\n",
    "    loss,grad = 0,0\n",
    "    for j in range(x.shape[0]):\n",
    "        v = y[j]*((theta.T).dot(x_todense_T[j])[0,0])\n",
    "        loss += max(0,1-v)\n",
    "        grad += 0 if v > 1 else -y[j]*x[j].todense()\n",
    "    return (loss/x.shape[0],grad)\n",
    "\n",
    "def cal_hinge_loss(theta,x,y):\n",
    "    loss = 0\n",
    "    for j in range(x.shape[0]):\n",
    "        v = y[j]*((theta.T).dot(x[j].todense().T)[0,0])\n",
    "        loss += max(0,1-v)\n",
    "    return loss/x.shape[0]\n",
    "\n",
    "def cal_accur(x,y,theta):\n",
    "    hypothesis = x * theta\n",
    "    hypothesis[hypothesis > 0] = 1\n",
    "    hypothesis[hypothesis <= 0] = -1\n",
    "    return np.count_nonzero(hypothesis == y)/ x.shape[0]\n",
    "\n",
    "\n"
   ]
  },
  {
   "cell_type": "code",
   "execution_count": 38,
   "metadata": {},
   "outputs": [
    {
     "data": {
      "text/plain": [
       "<matplotlib.legend.Legend at 0x1f108422da0>"
      ]
     },
     "execution_count": 38,
     "metadata": {},
     "output_type": "execute_result"
    },
    {
     "data": {
      "image/png": "[encoded data removed]",
      "text/plain": [
       "<matplotlib.figure.Figure at 0x1f10836e860>"
      ]
     },
     "metadata": {},
     "output_type": "display_data"
    }
   ],
   "source": [
    "def gradientDescent(w):\n",
    "    for i in range(maxIteration):\n",
    "        current_train_loss, gradient = cal_hinge_loss_and_grad(w,X_train,y_train)\n",
    "        train_loss.append(current_train_loss)\n",
    "        test_loss.append( cal_hinge_loss(w,X_test,y_test))\n",
    "        w = w-learning_rate*gradient.T\n",
    "        train_accr.append(cal_accur(X_train,y_train,w))\n",
    "        test_accr.append(cal_accur(X_test,y_test,w))\n",
    "        \n",
    "gradientDescent(theta)\n",
    "\n",
    "\n",
    "\n",
    "%matplotlib inline\n",
    "plt.xlabel(\"Iteration\")\n",
    "plt.ylabel(\"loss\")\n",
    "plt.plot(train_loss, label=\"train_loss\")\n",
    "plt.plot(test_loss,label=\"test_loss\" )\n",
    "plt.legend(loc=\"upper right\")"
   ]
  }
 ],
 "metadata": {
  "kernelspec": {
   "display_name": "Python 3",
   "language": "python",
   "name": "python3"
  },
  "language_info": {
   "codemirror_mode": {
    "name": "ipython",
    "version": 3
   },
   "file_extension": ".py",
   "mimetype": "text/x-python",
   "name": "python",
   "nbconvert_exporter": "python",
   "pygments_lexer": "ipython3",
   "version": "3.6.3"
  }
 },
 "nbformat": 4,
 "nbformat_minor": 2
}
